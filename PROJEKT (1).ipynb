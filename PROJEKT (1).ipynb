{
 "cells": [
  {
   "cell_type": "markdown",
   "metadata": {
    "id": "2BKXkf6VyXVd"
   },
   "source": [
    "#**PROJEKT**\n",
    "\n",
    "$***$ - projekty bardzo zaawansowane, na maksymalną ocenę bdb (5.0), które po rozszerzeniu mogą stać się podstawą pracy inżynierskiej, istotny udział własnego programowania\n",
    "\n",
    "$**$  - projekty na maksymalną ocenę bdb (5.0), użycie gotowych narzędzi, wymagajace sprofilowania\n",
    "\n",
    "$*$   - projekty na maksymalną ocenę db  (4.0)\n",
    "\n",
    "**Wszystkie programy muszą być klarowne, obficie okomentowane i używać bibliotek zewnętrznych lub własnych. Nie mogą zawierać zbędnych/roboczych kawałków.**\n",
    "\n",
    "**Programy do projektów mogą wykorzystywać kawałki wykładu oraz materiały znalezione w sieci, ale absolutnie niezbędne jest podanie ich źródła oraz DOKŁADNE zrozumienie wszelkich kroków. Musi być też zawarta jakaś autorska modyfikacja** Prezentacja musi być zrozumiała, oraz udzielone odpowiedzi na wszelkie pytania ode mnie i innych studentów. Całkowita ocena zależy od waloru pracy, dokładnego zrozumienia, jakości prezentacji oraz odpowiedzi na pytania.\n",
    "\n",
    "Termin wyboru projektu: **03/01/2023**\n",
    "\n",
    "Przed prezentacją należy wysłać projekt oraz ćwiczenia do prowadzącego zajęcia.\n",
    "\n",
    "Prezentacja projektów: **17/01/2023**\n",
    "\n",
    "-------------\n",
    "\n",
    "$***$ \n",
    "\n",
    "Własne programy!\n",
    "\n",
    "1. Utwórz program rozwiazujący metryczny TSP z pomocą sieci Kohonena (materiał: https://www.youtube.com/watch?v=wT9rEi9dY8M oraz https://diego.codes/post/som-tsp/)\n",
    "\n",
    "2. Utwórz program, dodający do algorytmu najbliższego sąsiada dla metrycznego TSP procedurę usuwania skrzyżowań poprzez zamianę 2-opt.\n",
    "\n",
    "3. Utwórz program wykorzystujacy zamiany 2-opt i 3-opt dla heurystycznego rozwiązania metrycznego TSP.\n",
    "_____________\n",
    "\n",
    "$**$\n",
    "\n",
    "1. Za pomocą pakietu tsp (pip install tsp) https://pypi.org/project/tsp/#files znajdź rozwiązanie problemu TSP dla listonosza w mieście (utwórz je), gdzie są ulice dwu- i jednokierunkowe (listonosz jeździ samochodem i przestrzega przepisów ruchu drogowego).\n",
    "\n",
    "2. Zainstaluj pakiet ortools (pip install ortools) https://developers.google.com/optimization/introduction/overview https://pypi.org/project/ortools/ i rozwiąż problem marszrutyzacji (VRP) https://developers.google.com/optimization/routing/vrp dla czterech samochodów.\n",
    "\n",
    "3. Za pomocą pakietu tsp (pip install tsp) https://pypi.org/project/tsp/#files znajdź rozwiązanie TSP dla wszystkich miast powiatowych z trzech województw (województwa muszą być połączone). Położenia geograficzne można uzyskać np. ze strony https://bazamiejscowosci.pl\n",
    "\n",
    "4. Zainstaluj pakiet ortools (pip install ortools) https://developers.google.com/optimization/introduction/overview https://pypi.org/project/ortools/ i rozwiąż problem plecakowy dla  𝑛  przedmiotów. Jak duże  𝑛  można zadać? Zbadaj zależność czasu wykonywania od  𝑛 .\n",
    "\n",
    "5. Zainstaluj pakiet ortools (pip install ortools) https://developers.google.com/optimization/introduction/overview https://pypi.org/project/ortools/ i rozwiąż TSP dla  𝑛  miast. Jak duże  𝑛  można zadać, by program liczył się w ok. 10 min.? Zbadaj zależność czasu wykonywania od  𝑛 .\n",
    "\n",
    "--------------\n",
    "\n",
    "$*$\n",
    "\n",
    "1. Zaprogramuj algorytm rozwiązujący modyfikację TSP, gdzie miasto startowe jest inne od końcowego (za pomocą ACO).\n",
    "\n",
    "2. Zaprogramuj algorytm rozwiązujący modyfikację TSP, gdzie miasto startowe jest inne od końcowego (za pomocą AG).\n",
    "\n",
    "3. Porównaj działanie ACO i AG dla tych samych konfiguracji $n$ miast, stopniowo zwiększając $n$.\n",
    "\n",
    "4. Z pomocą pakietu ortools https://developers.google.com/optimization/routing/tsp znajdź rozwiązanie TSP dla przypadku niesymetrycznej tablicy odległości między miastami.\n",
    "\n",
    "5. Z pomocą pakietu TSP  https://pypi.org/project/tsp/#files znajdź rozwiązanie TSP dla przypadku niesymetrycznej tablicy odległości między miastami.\n",
    "\n",
    "6. Z pomocą algorytmu pszczelego znajdź rozwiązanie TSP dla przypadku niesymetrycznej tablicy odległości między miastami.\n",
    "\n",
    "7. Porównaj działanie pakietów ortoolpy https://github.com/SaitoTsutomu/ortoolpy (pip install ortoolpy) i ortools https://developers.google.com/optimization/routing/tsp dla problemu plecakowego. Zmierz czas działania dla tych samych konfiguracji.\n",
    "\n",
    "8. Zainstaluj pakiet ortoolpy https://github.com/SaitoTsutomu/ortoolpy (pip install ortoolpy) i zbadaj czas rozwiązywania problemu plecakowego od liczby przedmiotów.\n",
    "\n",
    "9. Porównaj działanie ACO i GA dla problemu plecakowego, stopniowo zwiększając $n$. "
   ]
  },
  {
   "cell_type": "code",
   "execution_count": null,
   "metadata": {
    "id": "6ZQAW4EKyUev"
   },
   "outputs": [],
   "source": []
  }
 ],
 "metadata": {
  "colab": {
   "provenance": []
  },
  "kernelspec": {
   "display_name": "Python 3 (ipykernel)",
   "language": "python",
   "name": "python3"
  },
  "language_info": {
   "codemirror_mode": {
    "name": "ipython",
    "version": 3
   },
   "file_extension": ".py",
   "mimetype": "text/x-python",
   "name": "python",
   "nbconvert_exporter": "python",
   "pygments_lexer": "ipython3",
   "version": "3.9.12"
  }
 },
 "nbformat": 4,
 "nbformat_minor": 1
}
